{
  "nbformat": 4,
  "nbformat_minor": 0,
  "metadata": {
    "colab": {
      "provenance": [],
      "gpuType": "T4"
    },
    "kernelspec": {
      "name": "python3",
      "display_name": "Python 3"
    },
    "language_info": {
      "name": "python"
    },
    "accelerator": "GPU"
  },
  "cells": [
    {
      "cell_type": "markdown",
      "source": [
        "Zadanie 4 polegało na nauczeniu sieci perceprotnowej, przy użyciu biblioteki keras, poprawną klasyfikacje tekstur."
      ],
      "metadata": {
        "id": "m0d-BynvZyPQ"
      }
    },
    {
      "cell_type": "code",
      "source": [
        "import numpy as np\n",
        "from keras.models import Sequential\n",
        "from keras.layers import Dense\n",
        "import pandas as pd\n",
        "from sklearn.model_selection import train_test_split\n",
        "from sklearn.metrics import confusion_matrix\n",
        "from sklearn.preprocessing import OneHotEncoder, LabelEncoder"
      ],
      "metadata": {
        "id": "NJ2VW1sJe0Ni"
      },
      "execution_count": 5,
      "outputs": []
    },
    {
      "cell_type": "markdown",
      "source": [
        "Najpierw należy załadować dane z .csv, wyodrębnić dane z kazdej kolumny, oraz zamienić nazwy kategorii na liczby całkowite.\n"
      ],
      "metadata": {
        "id": "7fz0nkb1efhQ"
      }
    },
    {
      "cell_type": "code",
      "source": [
        "df = pd.read_csv('texture_features.csv')\n",
        "\n",
        "#Wyodrębnij dane i nazwy\n",
        "X = df.drop('category', axis=1).values\n",
        "y = df['category'].values\n",
        "\n",
        "#Zamiana nazw kategori na liczby\n",
        "label_encoder = LabelEncoder()\n",
        "y_int = label_encoder.fit_transform(y)"
      ],
      "metadata": {
        "collapsed": true,
        "id": "C6lSlnL_e-L8"
      },
      "execution_count": 6,
      "outputs": []
    },
    {
      "cell_type": "markdown",
      "source": [
        "W kolejnym kroku, należy zamienić liczby kategorii na wektory binarne, ponieważ biblioteka keras wymaga etykiet w formacie one-hot"
      ],
      "metadata": {
        "id": "t3yM1it5fVrg"
      }
    },
    {
      "cell_type": "code",
      "source": [
        "#One-hot\n",
        "onehotEncoder = OneHotEncoder(sparse_output=False)\n",
        "y_onehot = onehotEncoder.fit_transform(y_int.reshape(-1, 1))"
      ],
      "metadata": {
        "id": "h07QMFrEhF_z"
      },
      "execution_count": null,
      "outputs": []
    },
    {
      "cell_type": "markdown",
      "source": [
        "W następnym kroku, dane dzielone są na zbiór treningowy oraz testowy, a sam model jest budowany i kompilowany. Model posiada 10 neuronów w wartstwie pośredniej, która wydobywa nieliniowe wzorce. W warstwie wyjściowej są 3 neurony, odpowiadające ilości klas tekstur"
      ],
      "metadata": {
        "id": "wGz8Ep90hWH4"
      }
    },
    {
      "cell_type": "code",
      "execution_count": 7,
      "metadata": {
        "colab": {
          "base_uri": "https://localhost:8080/"
        },
        "collapsed": true,
        "id": "-TSLA8epTypP",
        "outputId": "e6a1f129-336e-4ac9-c4a8-8c4b76ff8e2c"
      },
      "outputs": [
        {
          "output_type": "stream",
          "name": "stderr",
          "text": [
            "/usr/local/lib/python3.11/dist-packages/keras/src/layers/core/dense.py:87: UserWarning: Do not pass an `input_shape`/`input_dim` argument to a layer. When using Sequential models, prefer using an `Input(shape)` object as the first layer in the model instead.\n",
            "  super().__init__(activity_regularizer=activity_regularizer, **kwargs)\n"
          ]
        }
      ],
      "source": [
        "X_train, X_test, y_train, y_test = train_test_split(\n",
        "    X, y_onehot, test_size=0.3, random_state=42\n",
        ")\n",
        "\n",
        "#Model\n",
        "model = Sequential()\n",
        "model.add(Dense(10, activation='sigmoid', input_dim=72))  # 72 features\n",
        "model.add(Dense(3, activation='softmax'))  # 3 classes\n",
        "\n",
        "model.compile(\n",
        "    loss='categorical_crossentropy',\n",
        "    optimizer='sgd',\n",
        "    metrics=['accuracy']\n",
        ")"
      ]
    },
    {
      "cell_type": "markdown",
      "source": [
        "Na samym końcu należy przetestować sieć oraz wyliczyć macierz pomyłek"
      ],
      "metadata": {
        "id": "qzm7oB0dfbMt"
      }
    },
    {
      "cell_type": "code",
      "source": [
        "#Trenowanie\n",
        "history = model.fit(\n",
        "    X_train, y_train,\n",
        "    epochs=100,\n",
        "    batch_size=10,\n",
        "    shuffle=True,\n",
        "    verbose=1\n",
        ")\n",
        "\n",
        "\n",
        "y_pred = model.predict(X_test)\n",
        "y_pred_int = np.argmax(y_pred, axis=1)\n",
        "y_test_int = np.argmax(y_test, axis=1)\n",
        "\n",
        "#Macierz pomyłek\n",
        "cm = confusion_matrix(y_test_int, y_pred_int)\n",
        "print(\"Confusion Matrix:\")\n",
        "print(cm)"
      ],
      "metadata": {
        "colab": {
          "base_uri": "https://localhost:8080/"
        },
        "id": "Ek2bFTP2fkMS",
        "outputId": "303fc601-b9d2-4518-ea2c-9902645b31b5"
      },
      "execution_count": null,
      "outputs": [
        {
          "output_type": "stream",
          "name": "stdout",
          "text": [
            "Epoch 1/100\n",
            "\u001b[1m484/484\u001b[0m \u001b[32m━━━━━━━━━━━━━━━━━━━━\u001b[0m\u001b[37m\u001b[0m \u001b[1m2s\u001b[0m 2ms/step - accuracy: 0.5427 - loss: 0.9409\n",
            "Epoch 2/100\n",
            "\u001b[1m 77/484\u001b[0m \u001b[32m━━━\u001b[0m\u001b[37m━━━━━━━━━━━━━━━━━\u001b[0m \u001b[1m0s\u001b[0m 2ms/step - accuracy: 0.6670 - loss: 0.8124"
          ]
        }
      ]
    },
    {
      "cell_type": "markdown",
      "source": [
        "Dokładnośc modelu dla 1 zdjęcia w każdej kategorii - tylko jeden błąd po 100 epokach![1.png](data:image/png;base64,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)\n",
        "\n",
        "Gdy znajdują się po 3 zdjęcia w kategorii, z powodu lekkich różnic w oświetleniu/teksturze, dokładnośc jest mniejsza. Również ilośc błędów jest o wiele większa.\n",
        "\n",
        "![obraz.png](data:image/png;base64,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)\n"
      ],
      "metadata": {
        "id": "y3HFDoF0Xr17"
      }
    }
  ]
}