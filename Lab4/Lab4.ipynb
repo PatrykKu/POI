{
  "nbformat": 4,
  "nbformat_minor": 0,
  "metadata": {
    "colab": {
      "provenance": [],
      "gpuType": "T4"
    },
    "kernelspec": {
      "name": "python3",
      "display_name": "Python 3"
    },
    "language_info": {
      "name": "python"
    },
    "accelerator": "GPU"
  },
  "cells": [
    {
      "cell_type": "markdown",
      "source": [
        "Zadanie 4 polegało na nauczeniu sieci perceprotnowej, przy użyciu biblioteki keras, poprawną klasyfikacje tekstur."
      ],
      "metadata": {
        "id": "m0d-BynvZyPQ"
      }
    },
    {
      "cell_type": "code",
      "source": [
        "import numpy as np\n",
        "from keras.models import Sequential\n",
        "from keras.layers import Dense\n",
        "import pandas as pd\n",
        "from sklearn.model_selection import train_test_split\n",
        "from sklearn.metrics import confusion_matrix\n",
        "from sklearn.preprocessing import OneHotEncoder, LabelEncoder"
      ],
      "metadata": {
        "id": "NJ2VW1sJe0Ni"
      },
      "execution_count": 8,
      "outputs": []
    },
    {
      "cell_type": "markdown",
      "source": [
        "Najpierw należy załadować dane z .csv, wyodrębnić dane z kazdej kolumny, oraz zamienić nazwy kategorii na liczby całkowite.\n"
      ],
      "metadata": {
        "id": "7fz0nkb1efhQ"
      }
    },
    {
      "cell_type": "code",
      "source": [
        "df = pd.read_csv('texture_features.csv')\n",
        "\n",
        "#Wyodrębnij dane i nazwy\n",
        "X = df.drop('category', axis=1).values\n",
        "y = df['category'].values\n",
        "\n",
        "#Zamiana nazw kategori na liczby\n",
        "label_encoder = LabelEncoder()\n",
        "y_int = label_encoder.fit_transform(y)"
      ],
      "metadata": {
        "collapsed": true,
        "id": "C6lSlnL_e-L8"
      },
      "execution_count": 9,
      "outputs": []
    },
    {
      "cell_type": "markdown",
      "source": [
        "W kolejnym kroku, należy zamienić liczby kategorii na wektory binarne, ponieważ biblioteka keras wymaga etykiet w formacie one-hot"
      ],
      "metadata": {
        "id": "t3yM1it5fVrg"
      }
    },
    {
      "cell_type": "code",
      "source": [
        "#One-hot\n",
        "onehotEncoder = OneHotEncoder(sparse_output=False)\n",
        "y_onehot = onehotEncoder.fit_transform(y_int.reshape(-1, 1))"
      ],
      "metadata": {
        "id": "h07QMFrEhF_z"
      },
      "execution_count": 10,
      "outputs": []
    },
    {
      "cell_type": "markdown",
      "source": [
        "W następnym kroku, dane dzielone są na zbiór treningowy oraz testowy, a sam model jest budowany i kompilowany. Model posiada 10 neuronów w wartstwie pośredniej, która wydobywa nieliniowe wzorce. W warstwie wyjściowej są 3 neurony, odpowiadające ilości klas tekstur"
      ],
      "metadata": {
        "id": "wGz8Ep90hWH4"
      }
    },
    {
      "cell_type": "code",
      "execution_count": null,
      "metadata": {
        "collapsed": true,
        "id": "-TSLA8epTypP"
      },
      "outputs": [],
      "source": [
        "X_train, X_test, y_train, y_test = train_test_split(\n",
        "    X, y_onehot, test_size=0.3, random_state=42\n",
        ")\n",
        "\n",
        "#Model\n",
        "model = Sequential()\n",
        "model.add(Dense(10, activation='sigmoid', input_dim=72))  # 72 features\n",
        "model.add(Dense(3, activation='softmax'))  # 3 classes\n",
        "\n",
        "model.compile(\n",
        "    loss='categorical_crossentropy',\n",
        "    optimizer='sgd',\n",
        "    metrics=['accuracy']\n",
        ")"
      ]
    },
    {
      "cell_type": "markdown",
      "source": [
        "Na samym końcu należy przetestować sieć oraz wyliczyć macierz pomyłek"
      ],
      "metadata": {
        "id": "qzm7oB0dfbMt"
      }
    },
    {
      "cell_type": "code",
      "source": [
        "#Trenowanie\n",
        "history = model.fit(\n",
        "    X_train, y_train,\n",
        "    epochs=100,\n",
        "    batch_size=10,\n",
        "    shuffle=True,\n",
        "    verbose=1\n",
        ")\n",
        "\n",
        "\n",
        "y_pred = model.predict(X_test)\n",
        "y_pred_int = np.argmax(y_pred, axis=1)\n",
        "y_test_int = np.argmax(y_test, axis=1)\n",
        "\n",
        "#Macierz pomyłek\n",
        "cm = confusion_matrix(y_test_int, y_pred_int)\n",
        "print(\"Confusion Matrix:\")\n",
        "print(cm)"
      ],
      "metadata": {
        "colab": {
          "base_uri": "https://localhost:8080/"
        },
        "id": "Ek2bFTP2fkMS",
        "outputId": "c0ff56cd-93fa-4ce6-8b33-871addf75ee5"
      },
      "execution_count": 12,
      "outputs": [
        {
          "output_type": "stream",
          "name": "stdout",
          "text": [
            "Epoch 1/100\n",
            "\u001b[1m484/484\u001b[0m \u001b[32m━━━━━━━━━━━━━━━━━━━━\u001b[0m\u001b[37m\u001b[0m \u001b[1m3s\u001b[0m 4ms/step - accuracy: 0.5662 - loss: 0.9345\n",
            "Epoch 2/100\n",
            "\u001b[1m484/484\u001b[0m \u001b[32m━━━━━━━━━━━━━━━━━━━━\u001b[0m\u001b[37m\u001b[0m \u001b[1m1s\u001b[0m 2ms/step - accuracy: 0.6526 - loss: 0.8060\n",
            "Epoch 3/100\n",
            "\u001b[1m484/484\u001b[0m \u001b[32m━━━━━━━━━━━━━━━━━━━━\u001b[0m\u001b[37m\u001b[0m \u001b[1m1s\u001b[0m 2ms/step - accuracy: 0.7357 - loss: 0.7292\n",
            "Epoch 4/100\n",
            "\u001b[1m484/484\u001b[0m \u001b[32m━━━━━━━━━━━━━━━━━━━━\u001b[0m\u001b[37m\u001b[0m \u001b[1m1s\u001b[0m 2ms/step - accuracy: 0.7568 - loss: 0.6745\n",
            "Epoch 5/100\n",
            "\u001b[1m484/484\u001b[0m \u001b[32m━━━━━━━━━━━━━━━━━━━━\u001b[0m\u001b[37m\u001b[0m \u001b[1m1s\u001b[0m 2ms/step - accuracy: 0.7927 - loss: 0.6138\n",
            "Epoch 6/100\n",
            "\u001b[1m484/484\u001b[0m \u001b[32m━━━━━━━━━━━━━━━━━━━━\u001b[0m\u001b[37m\u001b[0m \u001b[1m1s\u001b[0m 2ms/step - accuracy: 0.7913 - loss: 0.5923\n",
            "Epoch 7/100\n",
            "\u001b[1m484/484\u001b[0m \u001b[32m━━━━━━━━━━━━━━━━━━━━\u001b[0m\u001b[37m\u001b[0m \u001b[1m1s\u001b[0m 2ms/step - accuracy: 0.8031 - loss: 0.5556\n",
            "Epoch 8/100\n",
            "\u001b[1m484/484\u001b[0m \u001b[32m━━━━━━━━━━━━━━━━━━━━\u001b[0m\u001b[37m\u001b[0m \u001b[1m1s\u001b[0m 2ms/step - accuracy: 0.8016 - loss: 0.5399\n",
            "Epoch 9/100\n",
            "\u001b[1m484/484\u001b[0m \u001b[32m━━━━━━━━━━━━━━━━━━━━\u001b[0m\u001b[37m\u001b[0m \u001b[1m1s\u001b[0m 2ms/step - accuracy: 0.8003 - loss: 0.5333\n",
            "Epoch 10/100\n",
            "\u001b[1m484/484\u001b[0m \u001b[32m━━━━━━━━━━━━━━━━━━━━\u001b[0m\u001b[37m\u001b[0m \u001b[1m1s\u001b[0m 2ms/step - accuracy: 0.8069 - loss: 0.5052\n",
            "Epoch 11/100\n",
            "\u001b[1m484/484\u001b[0m \u001b[32m━━━━━━━━━━━━━━━━━━━━\u001b[0m\u001b[37m\u001b[0m \u001b[1m2s\u001b[0m 3ms/step - accuracy: 0.8144 - loss: 0.4885\n",
            "Epoch 12/100\n",
            "\u001b[1m484/484\u001b[0m \u001b[32m━━━━━━━━━━━━━━━━━━━━\u001b[0m\u001b[37m\u001b[0m \u001b[1m1s\u001b[0m 2ms/step - accuracy: 0.8133 - loss: 0.4755\n",
            "Epoch 13/100\n",
            "\u001b[1m484/484\u001b[0m \u001b[32m━━━━━━━━━━━━━━━━━━━━\u001b[0m\u001b[37m\u001b[0m \u001b[1m1s\u001b[0m 2ms/step - accuracy: 0.8106 - loss: 0.4805\n",
            "Epoch 14/100\n",
            "\u001b[1m484/484\u001b[0m \u001b[32m━━━━━━━━━━━━━━━━━━━━\u001b[0m\u001b[37m\u001b[0m \u001b[1m1s\u001b[0m 2ms/step - accuracy: 0.8223 - loss: 0.4485\n",
            "Epoch 15/100\n",
            "\u001b[1m484/484\u001b[0m \u001b[32m━━━━━━━━━━━━━━━━━━━━\u001b[0m\u001b[37m\u001b[0m \u001b[1m1s\u001b[0m 2ms/step - accuracy: 0.8093 - loss: 0.4648\n",
            "Epoch 16/100\n",
            "\u001b[1m484/484\u001b[0m \u001b[32m━━━━━━━━━━━━━━━━━━━━\u001b[0m\u001b[37m\u001b[0m \u001b[1m1s\u001b[0m 2ms/step - accuracy: 0.8103 - loss: 0.4512\n",
            "Epoch 17/100\n",
            "\u001b[1m484/484\u001b[0m \u001b[32m━━━━━━━━━━━━━━━━━━━━\u001b[0m\u001b[37m\u001b[0m \u001b[1m1s\u001b[0m 2ms/step - accuracy: 0.8252 - loss: 0.4351\n",
            "Epoch 18/100\n",
            "\u001b[1m484/484\u001b[0m \u001b[32m━━━━━━━━━━━━━━━━━━━━\u001b[0m\u001b[37m\u001b[0m \u001b[1m1s\u001b[0m 2ms/step - accuracy: 0.8268 - loss: 0.4223\n",
            "Epoch 19/100\n",
            "\u001b[1m484/484\u001b[0m \u001b[32m━━━━━━━━━━━━━━━━━━━━\u001b[0m\u001b[37m\u001b[0m \u001b[1m1s\u001b[0m 2ms/step - accuracy: 0.8243 - loss: 0.4245\n",
            "Epoch 20/100\n",
            "\u001b[1m484/484\u001b[0m \u001b[32m━━━━━━━━━━━━━━━━━━━━\u001b[0m\u001b[37m\u001b[0m \u001b[1m1s\u001b[0m 2ms/step - accuracy: 0.8349 - loss: 0.4170\n",
            "Epoch 21/100\n",
            "\u001b[1m484/484\u001b[0m \u001b[32m━━━━━━━━━━━━━━━━━━━━\u001b[0m\u001b[37m\u001b[0m \u001b[1m1s\u001b[0m 3ms/step - accuracy: 0.8203 - loss: 0.4262\n",
            "Epoch 22/100\n",
            "\u001b[1m484/484\u001b[0m \u001b[32m━━━━━━━━━━━━━━━━━━━━\u001b[0m\u001b[37m\u001b[0m \u001b[1m1s\u001b[0m 3ms/step - accuracy: 0.8273 - loss: 0.4112\n",
            "Epoch 23/100\n",
            "\u001b[1m484/484\u001b[0m \u001b[32m━━━━━━━━━━━━━━━━━━━━\u001b[0m\u001b[37m\u001b[0m \u001b[1m2s\u001b[0m 2ms/step - accuracy: 0.8248 - loss: 0.4114\n",
            "Epoch 24/100\n",
            "\u001b[1m484/484\u001b[0m \u001b[32m━━━━━━━━━━━━━━━━━━━━\u001b[0m\u001b[37m\u001b[0m \u001b[1m1s\u001b[0m 2ms/step - accuracy: 0.8194 - loss: 0.4232\n",
            "Epoch 25/100\n",
            "\u001b[1m484/484\u001b[0m \u001b[32m━━━━━━━━━━━━━━━━━━━━\u001b[0m\u001b[37m\u001b[0m \u001b[1m1s\u001b[0m 2ms/step - accuracy: 0.8344 - loss: 0.3963\n",
            "Epoch 26/100\n",
            "\u001b[1m484/484\u001b[0m \u001b[32m━━━━━━━━━━━━━━━━━━━━\u001b[0m\u001b[37m\u001b[0m \u001b[1m1s\u001b[0m 2ms/step - accuracy: 0.8387 - loss: 0.3896\n",
            "Epoch 27/100\n",
            "\u001b[1m484/484\u001b[0m \u001b[32m━━━━━━━━━━━━━━━━━━━━\u001b[0m\u001b[37m\u001b[0m \u001b[1m1s\u001b[0m 2ms/step - accuracy: 0.8232 - loss: 0.4126\n",
            "Epoch 28/100\n",
            "\u001b[1m484/484\u001b[0m \u001b[32m━━━━━━━━━━━━━━━━━━━━\u001b[0m\u001b[37m\u001b[0m \u001b[1m1s\u001b[0m 2ms/step - accuracy: 0.8402 - loss: 0.3932\n",
            "Epoch 29/100\n",
            "\u001b[1m484/484\u001b[0m \u001b[32m━━━━━━━━━━━━━━━━━━━━\u001b[0m\u001b[37m\u001b[0m \u001b[1m1s\u001b[0m 2ms/step - accuracy: 0.8300 - loss: 0.3953\n",
            "Epoch 30/100\n",
            "\u001b[1m484/484\u001b[0m \u001b[32m━━━━━━━━━━━━━━━━━━━━\u001b[0m\u001b[37m\u001b[0m \u001b[1m1s\u001b[0m 2ms/step - accuracy: 0.8444 - loss: 0.3759\n",
            "Epoch 31/100\n",
            "\u001b[1m484/484\u001b[0m \u001b[32m━━━━━━━━━━━━━━━━━━━━\u001b[0m\u001b[37m\u001b[0m \u001b[1m2s\u001b[0m 3ms/step - accuracy: 0.8436 - loss: 0.3688\n",
            "Epoch 32/100\n",
            "\u001b[1m484/484\u001b[0m \u001b[32m━━━━━━━━━━━━━━━━━━━━\u001b[0m\u001b[37m\u001b[0m \u001b[1m1s\u001b[0m 3ms/step - accuracy: 0.8343 - loss: 0.3806\n",
            "Epoch 33/100\n",
            "\u001b[1m484/484\u001b[0m \u001b[32m━━━━━━━━━━━━━━━━━━━━\u001b[0m\u001b[37m\u001b[0m \u001b[1m1s\u001b[0m 2ms/step - accuracy: 0.8484 - loss: 0.3678\n",
            "Epoch 34/100\n",
            "\u001b[1m484/484\u001b[0m \u001b[32m━━━━━━━━━━━━━━━━━━━━\u001b[0m\u001b[37m\u001b[0m \u001b[1m1s\u001b[0m 2ms/step - accuracy: 0.8277 - loss: 0.3932\n",
            "Epoch 35/100\n",
            "\u001b[1m484/484\u001b[0m \u001b[32m━━━━━━━━━━━━━━━━━━━━\u001b[0m\u001b[37m\u001b[0m \u001b[1m1s\u001b[0m 2ms/step - accuracy: 0.8347 - loss: 0.3796\n",
            "Epoch 36/100\n",
            "\u001b[1m484/484\u001b[0m \u001b[32m━━━━━━━━━━━━━━━━━━━━\u001b[0m\u001b[37m\u001b[0m \u001b[1m1s\u001b[0m 2ms/step - accuracy: 0.8285 - loss: 0.3860\n",
            "Epoch 37/100\n",
            "\u001b[1m484/484\u001b[0m \u001b[32m━━━━━━━━━━━━━━━━━━━━\u001b[0m\u001b[37m\u001b[0m \u001b[1m1s\u001b[0m 2ms/step - accuracy: 0.8512 - loss: 0.3537\n",
            "Epoch 38/100\n",
            "\u001b[1m484/484\u001b[0m \u001b[32m━━━━━━━━━━━━━━━━━━━━\u001b[0m\u001b[37m\u001b[0m \u001b[1m1s\u001b[0m 2ms/step - accuracy: 0.8430 - loss: 0.3736\n",
            "Epoch 39/100\n",
            "\u001b[1m484/484\u001b[0m \u001b[32m━━━━━━━━━━━━━━━━━━━━\u001b[0m\u001b[37m\u001b[0m \u001b[1m1s\u001b[0m 2ms/step - accuracy: 0.8510 - loss: 0.3572\n",
            "Epoch 40/100\n",
            "\u001b[1m484/484\u001b[0m \u001b[32m━━━━━━━━━━━━━━━━━━━━\u001b[0m\u001b[37m\u001b[0m \u001b[1m1s\u001b[0m 2ms/step - accuracy: 0.8329 - loss: 0.3854\n",
            "Epoch 41/100\n",
            "\u001b[1m484/484\u001b[0m \u001b[32m━━━━━━━━━━━━━━━━━━━━\u001b[0m\u001b[37m\u001b[0m \u001b[1m1s\u001b[0m 3ms/step - accuracy: 0.8528 - loss: 0.3496\n",
            "Epoch 42/100\n",
            "\u001b[1m484/484\u001b[0m \u001b[32m━━━━━━━━━━━━━━━━━━━━\u001b[0m\u001b[37m\u001b[0m \u001b[1m1s\u001b[0m 3ms/step - accuracy: 0.8389 - loss: 0.3790\n",
            "Epoch 43/100\n",
            "\u001b[1m484/484\u001b[0m \u001b[32m━━━━━━━━━━━━━━━━━━━━\u001b[0m\u001b[37m\u001b[0m \u001b[1m1s\u001b[0m 2ms/step - accuracy: 0.8492 - loss: 0.3603\n",
            "Epoch 44/100\n",
            "\u001b[1m484/484\u001b[0m \u001b[32m━━━━━━━━━━━━━━━━━━━━\u001b[0m\u001b[37m\u001b[0m \u001b[1m1s\u001b[0m 2ms/step - accuracy: 0.8542 - loss: 0.3477\n",
            "Epoch 45/100\n",
            "\u001b[1m484/484\u001b[0m \u001b[32m━━━━━━━━━━━━━━━━━━━━\u001b[0m\u001b[37m\u001b[0m \u001b[1m1s\u001b[0m 2ms/step - accuracy: 0.8482 - loss: 0.3471\n",
            "Epoch 46/100\n",
            "\u001b[1m484/484\u001b[0m \u001b[32m━━━━━━━━━━━━━━━━━━━━\u001b[0m\u001b[37m\u001b[0m \u001b[1m1s\u001b[0m 2ms/step - accuracy: 0.8366 - loss: 0.3657\n",
            "Epoch 47/100\n",
            "\u001b[1m484/484\u001b[0m \u001b[32m━━━━━━━━━━━━━━━━━━━━\u001b[0m\u001b[37m\u001b[0m \u001b[1m1s\u001b[0m 2ms/step - accuracy: 0.8430 - loss: 0.3583\n",
            "Epoch 48/100\n",
            "\u001b[1m484/484\u001b[0m \u001b[32m━━━━━━━━━━━━━━━━━━━━\u001b[0m\u001b[37m\u001b[0m \u001b[1m1s\u001b[0m 2ms/step - accuracy: 0.8462 - loss: 0.3555\n",
            "Epoch 49/100\n",
            "\u001b[1m484/484\u001b[0m \u001b[32m━━━━━━━━━━━━━━━━━━━━\u001b[0m\u001b[37m\u001b[0m \u001b[1m1s\u001b[0m 2ms/step - accuracy: 0.8488 - loss: 0.3525\n",
            "Epoch 50/100\n",
            "\u001b[1m484/484\u001b[0m \u001b[32m━━━━━━━━━━━━━━━━━━━━\u001b[0m\u001b[37m\u001b[0m \u001b[1m1s\u001b[0m 2ms/step - accuracy: 0.8439 - loss: 0.3568\n",
            "Epoch 51/100\n",
            "\u001b[1m484/484\u001b[0m \u001b[32m━━━━━━━━━━━━━━━━━━━━\u001b[0m\u001b[37m\u001b[0m \u001b[1m2s\u001b[0m 3ms/step - accuracy: 0.8436 - loss: 0.3563\n",
            "Epoch 52/100\n",
            "\u001b[1m484/484\u001b[0m \u001b[32m━━━━━━━━━━━━━━━━━━━━\u001b[0m\u001b[37m\u001b[0m \u001b[1m2s\u001b[0m 2ms/step - accuracy: 0.8388 - loss: 0.3640\n",
            "Epoch 53/100\n",
            "\u001b[1m484/484\u001b[0m \u001b[32m━━━━━━━━━━━━━━━━━━━━\u001b[0m\u001b[37m\u001b[0m \u001b[1m1s\u001b[0m 2ms/step - accuracy: 0.8609 - loss: 0.3352\n",
            "Epoch 54/100\n",
            "\u001b[1m484/484\u001b[0m \u001b[32m━━━━━━━━━━━━━━━━━━━━\u001b[0m\u001b[37m\u001b[0m \u001b[1m1s\u001b[0m 2ms/step - accuracy: 0.8405 - loss: 0.3691\n",
            "Epoch 55/100\n",
            "\u001b[1m484/484\u001b[0m \u001b[32m━━━━━━━━━━━━━━━━━━━━\u001b[0m\u001b[37m\u001b[0m \u001b[1m1s\u001b[0m 2ms/step - accuracy: 0.8538 - loss: 0.3515\n",
            "Epoch 56/100\n",
            "\u001b[1m484/484\u001b[0m \u001b[32m━━━━━━━━━━━━━━━━━━━━\u001b[0m\u001b[37m\u001b[0m \u001b[1m1s\u001b[0m 2ms/step - accuracy: 0.8504 - loss: 0.3494\n",
            "Epoch 57/100\n",
            "\u001b[1m484/484\u001b[0m \u001b[32m━━━━━━━━━━━━━━━━━━━━\u001b[0m\u001b[37m\u001b[0m \u001b[1m1s\u001b[0m 2ms/step - accuracy: 0.8645 - loss: 0.3265\n",
            "Epoch 58/100\n",
            "\u001b[1m484/484\u001b[0m \u001b[32m━━━━━━━━━━━━━━━━━━━━\u001b[0m\u001b[37m\u001b[0m \u001b[1m1s\u001b[0m 2ms/step - accuracy: 0.8498 - loss: 0.3459\n",
            "Epoch 59/100\n",
            "\u001b[1m484/484\u001b[0m \u001b[32m━━━━━━━━━━━━━━━━━━━━\u001b[0m\u001b[37m\u001b[0m \u001b[1m1s\u001b[0m 2ms/step - accuracy: 0.8537 - loss: 0.3328\n",
            "Epoch 60/100\n",
            "\u001b[1m484/484\u001b[0m \u001b[32m━━━━━━━━━━━━━━━━━━━━\u001b[0m\u001b[37m\u001b[0m \u001b[1m2s\u001b[0m 3ms/step - accuracy: 0.8516 - loss: 0.3449\n",
            "Epoch 61/100\n",
            "\u001b[1m484/484\u001b[0m \u001b[32m━━━━━━━━━━━━━━━━━━━━\u001b[0m\u001b[37m\u001b[0m \u001b[1m2s\u001b[0m 2ms/step - accuracy: 0.8571 - loss: 0.3448\n",
            "Epoch 62/100\n",
            "\u001b[1m484/484\u001b[0m \u001b[32m━━━━━━━━━━━━━━━━━━━━\u001b[0m\u001b[37m\u001b[0m \u001b[1m1s\u001b[0m 2ms/step - accuracy: 0.8585 - loss: 0.3254\n",
            "Epoch 63/100\n",
            "\u001b[1m484/484\u001b[0m \u001b[32m━━━━━━━━━━━━━━━━━━━━\u001b[0m\u001b[37m\u001b[0m \u001b[1m1s\u001b[0m 2ms/step - accuracy: 0.8591 - loss: 0.3341\n",
            "Epoch 64/100\n",
            "\u001b[1m484/484\u001b[0m \u001b[32m━━━━━━━━━━━━━━━━━━━━\u001b[0m\u001b[37m\u001b[0m \u001b[1m1s\u001b[0m 2ms/step - accuracy: 0.8612 - loss: 0.3281\n",
            "Epoch 65/100\n",
            "\u001b[1m484/484\u001b[0m \u001b[32m━━━━━━━━━━━━━━━━━━━━\u001b[0m\u001b[37m\u001b[0m \u001b[1m1s\u001b[0m 2ms/step - accuracy: 0.8501 - loss: 0.3466\n",
            "Epoch 66/100\n",
            "\u001b[1m484/484\u001b[0m \u001b[32m━━━━━━━━━━━━━━━━━━━━\u001b[0m\u001b[37m\u001b[0m \u001b[1m1s\u001b[0m 2ms/step - accuracy: 0.8553 - loss: 0.3306\n",
            "Epoch 67/100\n",
            "\u001b[1m484/484\u001b[0m \u001b[32m━━━━━━━━━━━━━━━━━━━━\u001b[0m\u001b[37m\u001b[0m \u001b[1m1s\u001b[0m 2ms/step - accuracy: 0.8597 - loss: 0.3319\n",
            "Epoch 68/100\n",
            "\u001b[1m484/484\u001b[0m \u001b[32m━━━━━━━━━━━━━━━━━━━━\u001b[0m\u001b[37m\u001b[0m \u001b[1m1s\u001b[0m 2ms/step - accuracy: 0.8577 - loss: 0.3364\n",
            "Epoch 69/100\n",
            "\u001b[1m484/484\u001b[0m \u001b[32m━━━━━━━━━━━━━━━━━━━━\u001b[0m\u001b[37m\u001b[0m \u001b[1m1s\u001b[0m 3ms/step - accuracy: 0.8600 - loss: 0.3376\n",
            "Epoch 70/100\n",
            "\u001b[1m484/484\u001b[0m \u001b[32m━━━━━━━━━━━━━━━━━━━━\u001b[0m\u001b[37m\u001b[0m \u001b[1m2s\u001b[0m 3ms/step - accuracy: 0.8553 - loss: 0.3282\n",
            "Epoch 71/100\n",
            "\u001b[1m484/484\u001b[0m \u001b[32m━━━━━━━━━━━━━━━━━━━━\u001b[0m\u001b[37m\u001b[0m \u001b[1m2s\u001b[0m 2ms/step - accuracy: 0.8581 - loss: 0.3291\n",
            "Epoch 72/100\n",
            "\u001b[1m484/484\u001b[0m \u001b[32m━━━━━━━━━━━━━━━━━━━━\u001b[0m\u001b[37m\u001b[0m \u001b[1m1s\u001b[0m 2ms/step - accuracy: 0.8576 - loss: 0.3243\n",
            "Epoch 73/100\n",
            "\u001b[1m484/484\u001b[0m \u001b[32m━━━━━━━━━━━━━━━━━━━━\u001b[0m\u001b[37m\u001b[0m \u001b[1m1s\u001b[0m 2ms/step - accuracy: 0.8716 - loss: 0.3109\n",
            "Epoch 74/100\n",
            "\u001b[1m484/484\u001b[0m \u001b[32m━━━━━━━━━━━━━━━━━━━━\u001b[0m\u001b[37m\u001b[0m \u001b[1m1s\u001b[0m 2ms/step - accuracy: 0.8582 - loss: 0.3313\n",
            "Epoch 75/100\n",
            "\u001b[1m484/484\u001b[0m \u001b[32m━━━━━━━━━━━━━━━━━━━━\u001b[0m\u001b[37m\u001b[0m \u001b[1m1s\u001b[0m 2ms/step - accuracy: 0.8561 - loss: 0.3278\n",
            "Epoch 76/100\n",
            "\u001b[1m484/484\u001b[0m \u001b[32m━━━━━━━━━━━━━━━━━━━━\u001b[0m\u001b[37m\u001b[0m \u001b[1m1s\u001b[0m 2ms/step - accuracy: 0.8630 - loss: 0.3238\n",
            "Epoch 77/100\n",
            "\u001b[1m484/484\u001b[0m \u001b[32m━━━━━━━━━━━━━━━━━━━━\u001b[0m\u001b[37m\u001b[0m \u001b[1m1s\u001b[0m 2ms/step - accuracy: 0.8587 - loss: 0.3350\n",
            "Epoch 78/100\n",
            "\u001b[1m484/484\u001b[0m \u001b[32m━━━━━━━━━━━━━━━━━━━━\u001b[0m\u001b[37m\u001b[0m \u001b[1m1s\u001b[0m 2ms/step - accuracy: 0.8630 - loss: 0.3248\n",
            "Epoch 79/100\n",
            "\u001b[1m484/484\u001b[0m \u001b[32m━━━━━━━━━━━━━━━━━━━━\u001b[0m\u001b[37m\u001b[0m \u001b[1m1s\u001b[0m 3ms/step - accuracy: 0.8612 - loss: 0.3177\n",
            "Epoch 80/100\n",
            "\u001b[1m484/484\u001b[0m \u001b[32m━━━━━━━━━━━━━━━━━━━━\u001b[0m\u001b[37m\u001b[0m \u001b[1m2s\u001b[0m 2ms/step - accuracy: 0.8567 - loss: 0.3298\n",
            "Epoch 81/100\n",
            "\u001b[1m484/484\u001b[0m \u001b[32m━━━━━━━━━━━━━━━━━━━━\u001b[0m\u001b[37m\u001b[0m \u001b[1m1s\u001b[0m 2ms/step - accuracy: 0.8607 - loss: 0.3219\n",
            "Epoch 82/100\n",
            "\u001b[1m484/484\u001b[0m \u001b[32m━━━━━━━━━━━━━━━━━━━━\u001b[0m\u001b[37m\u001b[0m \u001b[1m1s\u001b[0m 2ms/step - accuracy: 0.8578 - loss: 0.3209\n",
            "Epoch 83/100\n",
            "\u001b[1m484/484\u001b[0m \u001b[32m━━━━━━━━━━━━━━━━━━━━\u001b[0m\u001b[37m\u001b[0m \u001b[1m1s\u001b[0m 2ms/step - accuracy: 0.8673 - loss: 0.3133\n",
            "Epoch 84/100\n",
            "\u001b[1m484/484\u001b[0m \u001b[32m━━━━━━━━━━━━━━━━━━━━\u001b[0m\u001b[37m\u001b[0m \u001b[1m1s\u001b[0m 2ms/step - accuracy: 0.8551 - loss: 0.3374\n",
            "Epoch 85/100\n",
            "\u001b[1m484/484\u001b[0m \u001b[32m━━━━━━━━━━━━━━━━━━━━\u001b[0m\u001b[37m\u001b[0m \u001b[1m1s\u001b[0m 2ms/step - accuracy: 0.8557 - loss: 0.3288\n",
            "Epoch 86/100\n",
            "\u001b[1m484/484\u001b[0m \u001b[32m━━━━━━━━━━━━━━━━━━━━\u001b[0m\u001b[37m\u001b[0m \u001b[1m1s\u001b[0m 2ms/step - accuracy: 0.8589 - loss: 0.3334\n",
            "Epoch 87/100\n",
            "\u001b[1m484/484\u001b[0m \u001b[32m━━━━━━━━━━━━━━━━━━━━\u001b[0m\u001b[37m\u001b[0m \u001b[1m1s\u001b[0m 2ms/step - accuracy: 0.8583 - loss: 0.3253\n",
            "Epoch 88/100\n",
            "\u001b[1m484/484\u001b[0m \u001b[32m━━━━━━━━━━━━━━━━━━━━\u001b[0m\u001b[37m\u001b[0m \u001b[1m1s\u001b[0m 3ms/step - accuracy: 0.8627 - loss: 0.3254\n",
            "Epoch 89/100\n",
            "\u001b[1m484/484\u001b[0m \u001b[32m━━━━━━━━━━━━━━━━━━━━\u001b[0m\u001b[37m\u001b[0m \u001b[1m2s\u001b[0m 3ms/step - accuracy: 0.8535 - loss: 0.3277\n",
            "Epoch 90/100\n",
            "\u001b[1m484/484\u001b[0m \u001b[32m━━━━━━━━━━━━━━━━━━━━\u001b[0m\u001b[37m\u001b[0m \u001b[1m1s\u001b[0m 2ms/step - accuracy: 0.8613 - loss: 0.3250\n",
            "Epoch 91/100\n",
            "\u001b[1m484/484\u001b[0m \u001b[32m━━━━━━━━━━━━━━━━━━━━\u001b[0m\u001b[37m\u001b[0m \u001b[1m1s\u001b[0m 2ms/step - accuracy: 0.8603 - loss: 0.3123\n",
            "Epoch 92/100\n",
            "\u001b[1m484/484\u001b[0m \u001b[32m━━━━━━━━━━━━━━━━━━━━\u001b[0m\u001b[37m\u001b[0m \u001b[1m1s\u001b[0m 2ms/step - accuracy: 0.8670 - loss: 0.3047\n",
            "Epoch 93/100\n",
            "\u001b[1m484/484\u001b[0m \u001b[32m━━━━━━━━━━━━━━━━━━━━\u001b[0m\u001b[37m\u001b[0m \u001b[1m1s\u001b[0m 2ms/step - accuracy: 0.8659 - loss: 0.3084\n",
            "Epoch 94/100\n",
            "\u001b[1m484/484\u001b[0m \u001b[32m━━━━━━━━━━━━━━━━━━━━\u001b[0m\u001b[37m\u001b[0m \u001b[1m1s\u001b[0m 2ms/step - accuracy: 0.8661 - loss: 0.3105\n",
            "Epoch 95/100\n",
            "\u001b[1m484/484\u001b[0m \u001b[32m━━━━━━━━━━━━━━━━━━━━\u001b[0m\u001b[37m\u001b[0m \u001b[1m1s\u001b[0m 2ms/step - accuracy: 0.8652 - loss: 0.3091\n",
            "Epoch 96/100\n",
            "\u001b[1m484/484\u001b[0m \u001b[32m━━━━━━━━━━━━━━━━━━━━\u001b[0m\u001b[37m\u001b[0m \u001b[1m1s\u001b[0m 2ms/step - accuracy: 0.8573 - loss: 0.3218\n",
            "Epoch 97/100\n",
            "\u001b[1m484/484\u001b[0m \u001b[32m━━━━━━━━━━━━━━━━━━━━\u001b[0m\u001b[37m\u001b[0m \u001b[1m1s\u001b[0m 2ms/step - accuracy: 0.8570 - loss: 0.3184\n",
            "Epoch 98/100\n",
            "\u001b[1m484/484\u001b[0m \u001b[32m━━━━━━━━━━━━━━━━━━━━\u001b[0m\u001b[37m\u001b[0m \u001b[1m1s\u001b[0m 2ms/step - accuracy: 0.8570 - loss: 0.3185\n",
            "Epoch 99/100\n",
            "\u001b[1m484/484\u001b[0m \u001b[32m━━━━━━━━━━━━━━━━━━━━\u001b[0m\u001b[37m\u001b[0m \u001b[1m2s\u001b[0m 3ms/step - accuracy: 0.8664 - loss: 0.3035\n",
            "Epoch 100/100\n",
            "\u001b[1m484/484\u001b[0m \u001b[32m━━━━━━━━━━━━━━━━━━━━\u001b[0m\u001b[37m\u001b[0m \u001b[1m2s\u001b[0m 2ms/step - accuracy: 0.8673 - loss: 0.3181\n",
            "\u001b[1m65/65\u001b[0m \u001b[32m━━━━━━━━━━━━━━━━━━━━\u001b[0m\u001b[37m\u001b[0m \u001b[1m1s\u001b[0m 5ms/step\n",
            "Confusion Matrix:\n",
            "[[706   8   8]\n",
            " [  6 665   5]\n",
            " [  2 233 441]]\n"
          ]
        }
      ]
    },
    {
      "cell_type": "markdown",
      "source": [
        "Dokładnośc modelu dla 1 zdjęcia w każdej kategorii - tylko jeden błąd po 100 epokach![1.png](data:image/png;base64,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)\n",
        "\n",
        "Gdy znajdują się po 3 zdjęcia w kategorii, z powodu lekkich różnic w oświetleniu/teksturze, dokładnośc jest mniejsza. Również ilośc błędów jest o wiele większa.\n",
        "\n",
        "![obraz.png](data:image/png;base64,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)\n",
        "\n"
      ],
      "metadata": {
        "id": "y3HFDoF0Xr17"
      }
    },
    {
      "cell_type": "code",
      "source": [],
      "metadata": {
        "id": "jMynhhxni3zy"
      },
      "execution_count": null,
      "outputs": []
    }
  ]
}